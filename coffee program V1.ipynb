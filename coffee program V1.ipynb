{
 "cells": [
  {
   "cell_type": "code",
   "execution_count": 3,
   "metadata": {},
   "outputs": [
    {
     "name": "stdout",
     "output_type": "stream",
     "text": [
      "-----receipt-----\n",
      "2 Coffee at $5 each Purchased: $ 10.0\n",
      "3 Muffins at $4 each Purchased: $ 12.0\n",
      "6% tax: $ 1.3199999999999998\n",
      "Total Cost: $ 23.32\n"
     ]
    }
   ],
   "source": [
    "#CIS 129 Module 3 Lab\n",
    "#Coffee Shop Program\n",
    "#Terry Larkin 2024\n",
    "#identify the variables\n",
    "#program gets input from the user about number of coffees and muffins purchased, calculates the sales tax and then spits out the total cost\n",
    "\n",
    "Coffee = int(input( \"Number of Coffee purchased: \"))\n",
    "Muffins= int(input(\"Number of Muffins purchased: \"))\n",
    "priceOfCoffee = Coffee * 5.00\n",
    "priceofMuffin = Muffins * 4.00\n",
    "totalCost = 0.0\n",
    "totalCost = priceofMuffin + priceOfCoffee\n",
    "salestax= totalCost * 0.06\n",
    "totalCost += salestax \n",
    "print( \"-----receipt-----\" )\n",
    "print( Coffee, \"Coffee at $5 each Purchased: $\", priceOfCoffee)\n",
    "print (Muffins, \"Muffins at $4 each Purchased: $\",priceofMuffin)\n",
    "print( '6% tax: $' ,salestax)\n",
    "print( \"Total Cost: $\", totalCost)\n"
   ]
  }
 ],
 "metadata": {
  "kernelspec": {
   "display_name": "Python 3",
   "language": "python",
   "name": "python3"
  },
  "language_info": {
   "codemirror_mode": {
    "name": "ipython",
    "version": 3
   },
   "file_extension": ".py",
   "mimetype": "text/x-python",
   "name": "python",
   "nbconvert_exporter": "python",
   "pygments_lexer": "ipython3",
   "version": "3.12.5"
  }
 },
 "nbformat": 4,
 "nbformat_minor": 2
}
